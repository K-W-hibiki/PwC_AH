{
 "cells": [
  {
   "cell_type": "code",
   "execution_count": 1,
   "source": [
    "import lightgbm as lgb\r\n",
    "import matplotlib.font_manager as fm\r\n",
    "import matplotlib.pyplot as plt\r\n",
    "import numpy as np\r\n",
    "import pandas as pd\r\n",
    "import seaborn as sns\r\n",
    "from sklearn.ensemble import RandomForestClassifier\r\n",
    "from sklearn.linear_model import LinearRegression, LogisticRegression\r\n",
    "from sklearn.metrics import log_loss, mean_squared_error, roc_auc_score\r\n",
    "from sklearn.model_selection import KFold, train_test_split\r\n",
    "from sklearn.metrics import roc_curve,auc\r\n",
    "from sklearn.neighbors import NearestNeighbors\r\n",
    "\r\n",
    "\r\n",
    "%matplotlib inline\r\n",
    "# その他設定\r\n",
    "pd.set_option('display.max_columns', 100)\r\n",
    "plt.style.use('seaborn-darkgrid')\r\n",
    "font = fm.FontProperties(fname='./TakaoPGothic.ttf')\r\n",
    "\r\n",
    "df = pd.read_csv(\"input/OnlineNewsPopularity.csv\")\r\n",
    "df = df.loc[:, \"n_tokens_title\":]\r\n",
    "df\r\n",
    "print(df.shape)"
   ],
   "outputs": [
    {
     "output_type": "stream",
     "name": "stdout",
     "text": [
      "(39644, 59)\n"
     ]
    }
   ],
   "metadata": {}
  }
 ],
 "metadata": {
  "orig_nbformat": 4,
  "language_info": {
   "name": "python"
  }
 },
 "nbformat": 4,
 "nbformat_minor": 2
}